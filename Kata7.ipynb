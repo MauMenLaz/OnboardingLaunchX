{
 "cells": [
  {
   "cell_type": "markdown",
   "metadata": {},
   "source": [
    "## Ciclo While \n"
   ]
  },
  {
   "cell_type": "code",
   "execution_count": 4,
   "metadata": {},
   "outputs": [
    {
     "name": "stdout",
     "output_type": "stream",
     "text": [
      "Hola \n",
      "como \n",
      "estas? \n"
     ]
    }
   ],
   "source": [
    "\n",
    "new_planet=input(\"Ingresa el planeta a agregar(escribe 'done' para salir)\")    \n",
    "planets=[]\n",
    "\n",
    "while new_planet!='done':\n",
    "    planets.append(new_planet)\n",
    "    new_planet=input(\"Ingresa el planeta a agregar(escribe 'done' para salir)\")    \n",
    "    \n",
    "for p in planets:\n",
    "        print(p)\n",
    "    \n",
    "\n"
   ]
  },
  {
   "cell_type": "code",
   "execution_count": null,
   "metadata": {},
   "outputs": [],
   "source": []
  }
 ],
 "metadata": {
  "interpreter": {
   "hash": "438f6848e3e54f7a241b3d4031c9d2c8ac6a100f2d9df19ed2c221fa63548835"
  },
  "kernelspec": {
   "display_name": "Python 3.10.2 64-bit (windows store)",
   "language": "python",
   "name": "python3"
  },
  "language_info": {
   "codemirror_mode": {
    "name": "ipython",
    "version": 3
   },
   "file_extension": ".py",
   "mimetype": "text/x-python",
   "name": "python",
   "nbconvert_exporter": "python",
   "pygments_lexer": "ipython3",
   "version": "3.10.2"
  },
  "orig_nbformat": 4
 },
 "nbformat": 4,
 "nbformat_minor": 2
}
