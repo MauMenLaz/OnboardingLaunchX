{
 "cells": [
  {
   "cell_type": "markdown",
   "metadata": {},
   "source": [
    "## Kata 6"
   ]
  },
  {
   "cell_type": "code",
   "execution_count": 5,
   "metadata": {},
   "outputs": [
    {
     "name": "stdout",
     "output_type": "stream",
     "text": [
      "Mercurio\n",
      "Venus\n",
      "Tierra\n",
      "Marte\n",
      "Júpiter\n",
      "Saturno\n",
      "Urano\n",
      "Neptuno\n",
      "Mercurio\n",
      "Venus\n",
      "Tierra\n",
      "Marte\n",
      "Júpiter\n",
      "Saturno\n",
      "Urano\n",
      "Neptuno\n",
      "Plutón\n"
     ]
    }
   ],
   "source": [
    "planets=[\"Mercurio\",\"Venus\",\"Tierra\",\"Marte\",\"Júpiter\",\"Saturno\",\"Urano\",\"Neptuno\"]\n",
    "for p in planets:\n",
    "    print(p)\n",
    "    \n"
   ]
  },
  {
   "cell_type": "code",
   "execution_count": 8,
   "metadata": {},
   "outputs": [
    {
     "name": "stdout",
     "output_type": "stream",
     "text": [
      "Plutón\n"
     ]
    }
   ],
   "source": [
    "planets=[\"Mercurio\",\"Venus\",\"Tierra\",\"Marte\",\"Júpiter\",\"Saturno\",\"Urano\",\"Neptuno\"]\n",
    "planets.append(\"Plutón\")\n",
    "print(planets[len(planets)-1])"
   ]
  },
  {
   "cell_type": "code",
   "execution_count": 19,
   "metadata": {},
   "outputs": [
    {
     "name": "stdout",
     "output_type": "stream",
     "text": [
      "Indice: 3\n",
      "Planetas mas cercanos al sol? Mars\n",
      "['Mercury', 'Venus', 'Earth']\n",
      "Planetas mas lejanos al sol? Mars\n",
      "['Jupiter', 'Saturn', 'Neptune']\n"
     ]
    }
   ],
   "source": [
    "# Lista de planetas\n",
    "planets = ['Mercury', 'Venus', 'Earth', 'Mars', 'Jupiter', 'Saturn', 'Neptune']\n",
    "plan= str(input('Ingresa el nombre de un planeta'))\n",
    "index=planets.index(plan)\n",
    "print(\"Indice: \"+str(index))\n",
    "\n",
    "print('Planetas mas cercanos al sol? ' + plan)\n",
    "print(planets[0:index])\n",
    "print('Planetas mas lejanos al sol? ' + plan)\n",
    "print(planets[index+1:])"
   ]
  },
  {
   "cell_type": "code",
   "execution_count": null,
   "metadata": {},
   "outputs": [],
   "source": []
  }
 ],
 "metadata": {
  "interpreter": {
   "hash": "438f6848e3e54f7a241b3d4031c9d2c8ac6a100f2d9df19ed2c221fa63548835"
  },
  "kernelspec": {
   "display_name": "Python 3.10.2 64-bit (windows store)",
   "language": "python",
   "name": "python3"
  },
  "language_info": {
   "codemirror_mode": {
    "name": "ipython",
    "version": 3
   },
   "file_extension": ".py",
   "mimetype": "text/x-python",
   "name": "python",
   "nbconvert_exporter": "python",
   "pygments_lexer": "ipython3",
   "version": "3.10.2"
  },
  "orig_nbformat": 4
 },
 "nbformat": 4,
 "nbformat_minor": 2
}
