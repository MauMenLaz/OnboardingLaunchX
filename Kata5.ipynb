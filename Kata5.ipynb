{
 "cells": [
  {
   "cell_type": "markdown",
   "metadata": {},
   "source": [
    "## Distancia entre 2 planetas   "
   ]
  },
  {
   "cell_type": "code",
   "execution_count": 10,
   "metadata": {},
   "outputs": [
    {
     "name": "stdout",
     "output_type": "stream",
     "text": [
      "Distancia en Km: 628949330\n",
      "Distancia en Mi: 390577534\n"
     ]
    }
   ],
   "source": [
    "tierra=\"149.597.870\"\n",
    "jupiter=\"778.547.200\" \n",
    "tierra= tierra.replace('.','')\n",
    "jupiter=jupiter.replace('.','')\n",
    "\n",
    "distancia=abs(int(tierra)-int(jupiter))\n",
    "distMillas=round(distancia*0.621)\n",
    "print(\"Distancia en Km: \"+str(distancia))\n",
    "print (\"Distancia en Mi: \"+str(distMillas))"
   ]
  },
  {
   "cell_type": "markdown",
   "metadata": {},
   "source": [
    "## Ejercicio 2  "
   ]
  },
  {
   "cell_type": "code",
   "execution_count": 16,
   "metadata": {},
   "outputs": [
    {
     "name": "stdout",
     "output_type": "stream",
     "text": [
      "Distancia en Km: 91700000\n",
      "Distancia en Mi: 56945700.0\n"
     ]
    }
   ],
   "source": [
    "planeta1=0\n",
    "planeta2=0\n",
    "\n",
    "planeta1=int(input(\"Distancia del Planeta 1\"))\n",
    "planeta2=int(input(\"Distancia del Planeta 2\"))\n",
    "\n",
    "distancia=abs(int(planeta1)-int(planeta2))\n",
    "distMillas=round(distancia*0.621)\n",
    "print(\"Distancia en Km: \"+str(distancia))\n",
    "print (\"Distancia en Mi: \"+str(distMillas))\n"
   ]
  },
  {
   "cell_type": "code",
   "execution_count": null,
   "metadata": {},
   "outputs": [],
   "source": []
  }
 ],
 "metadata": {
  "interpreter": {
   "hash": "438f6848e3e54f7a241b3d4031c9d2c8ac6a100f2d9df19ed2c221fa63548835"
  },
  "kernelspec": {
   "display_name": "Python 3.10.2 64-bit (windows store)",
   "language": "python",
   "name": "python3"
  },
  "language_info": {
   "codemirror_mode": {
    "name": "ipython",
    "version": 3
   },
   "file_extension": ".py",
   "mimetype": "text/x-python",
   "name": "python",
   "nbconvert_exporter": "python",
   "pygments_lexer": "ipython3",
   "version": "3.10.2"
  },
  "orig_nbformat": 4
 },
 "nbformat": 4,
 "nbformat_minor": 2
}
