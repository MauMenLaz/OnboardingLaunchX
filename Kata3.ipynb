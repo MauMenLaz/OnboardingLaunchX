{
 "cells": [
  {
   "cell_type": "markdown",
   "metadata": {},
   "source": [
    "## Programa que advierte si un asteroide es peligroso o no segun su velocidad\n",
    "     "
   ]
  },
  {
   "cell_type": "code",
   "execution_count": 4,
   "metadata": {},
   "outputs": [
    {
     "name": "stdout",
     "output_type": "stream",
     "text": [
      "¿Cual es la velocidad del asteroide? /n(En m/s): \n",
      "Es peligroso\n"
     ]
    }
   ],
   "source": [
    "#Solucion Propuesta (dinamica por medio de input): \n",
    "velAsteroide=0\n",
    "print('¿Cual es la velocidad del asteroide? (En m/s): ')\n",
    "velAsteroide=float(input())\n",
    "if (velAsteroide>25):\n",
    "    print('Es peligroso')\n",
    "else:\n",
    "    print('No hay problema')"
   ]
  },
  {
   "cell_type": "markdown",
   "metadata": {},
   "source": [
    "## Aviso rayo de luz por asteroide  "
   ]
  },
  {
   "cell_type": "code",
   "execution_count": 6,
   "metadata": {},
   "outputs": [
    {
     "name": "stdout",
     "output_type": "stream",
     "text": [
      "¿Cual es la velocidad del asteroide? (En m/s): \n",
      "¡Busca un asteroide en el cielo!\n"
     ]
    }
   ],
   "source": [
    "#Solucion Propuesta: \n",
    "velAsteroide=19\n",
    "#Descomentar para hacer dinamico\n",
    "#print('¿Cual es la velocidad del asteroide? (En m/s): ')\n",
    "#velAsteroide=float(input())\n",
    "if (velAsteroide==20):\n",
    "    print('¡Busca un asteroide en el cielo!')\n",
    "elif (velAsteroide>20):\n",
    "    print ('¡Busca un asteroide en el cielo!')\n",
    "else:\n",
    "    print('No vas a ver nada :9')"
   ]
  },
  {
   "cell_type": "markdown",
   "metadata": {},
   "source": [
    "## 3er ejercicio "
   ]
  },
  {
   "cell_type": "code",
   "execution_count": 11,
   "metadata": {},
   "outputs": [
    {
     "name": "stdout",
     "output_type": "stream",
     "text": [
      "¿Cual es la velocidad del asteroide? (En m/s): \n",
      "¿Cual es el tamaño del asteroide? (En m): \n",
      "¡Disfruta el espectaculo!\n"
     ]
    }
   ],
   "source": [
    "#Solucion Propuesta (dinamica por medio de input): \n",
    "velAsteroide=0\n",
    "tamAsteroide=0\n",
    "print('¿Cual es la velocidad del asteroide? (En m/s): ')\n",
    "velAsteroide=float(input())\n",
    "print('¿Cual es el tamaño del asteroide? (En m): ')\n",
    "tamAsteroide=float(input())\n",
    "if (velAsteroide>25 and tamAsteroide>25) :\n",
    "    print('¡Peligro inminente!')\n",
    "elif (velAsteroide>=20):\n",
    "    print('¡Disfruta el espectaculo!')\n",
    "else:\n",
    "    print('Nada que ver por aqui ¬_¬')"
   ]
  }
 ],
 "metadata": {
  "interpreter": {
   "hash": "438f6848e3e54f7a241b3d4031c9d2c8ac6a100f2d9df19ed2c221fa63548835"
  },
  "kernelspec": {
   "display_name": "Python 3.10.2 64-bit (windows store)",
   "language": "python",
   "name": "python3"
  },
  "language_info": {
   "codemirror_mode": {
    "name": "ipython",
    "version": 3
   },
   "file_extension": ".py",
   "mimetype": "text/x-python",
   "name": "python",
   "nbconvert_exporter": "python",
   "pygments_lexer": "ipython3",
   "version": "3.10.2"
  },
  "orig_nbformat": 4
 },
 "nbformat": 4,
 "nbformat_minor": 2
}
